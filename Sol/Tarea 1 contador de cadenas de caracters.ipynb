{
 "cells": [
  {
   "cell_type": "code",
   "execution_count": 5,
   "metadata": {},
   "outputs": [
    {
     "name": "stdout",
     "output_type": "stream",
     "text": [
      "inserte cadena de la cual se dara la frecuencia de cada palabra: rhtyh rhfhr hthrgdf gfdegh yh wqw eg ghr erge f hgrfv hwrt wer g wqasd  w hvcbg hrtg e sxcd rfs bg re r kuik k t uyjyrt gw htr g rh rfgb  rgbrnu frg rgei nfbejfn [frgnek fgjfrg bemfr rb nb nrgu  bh  e e j de pwsvd epi \n",
      "Cadena\n",
      "rhtyh rhfhr hthrgdf gfdegh yh wqw eg ghr erge f hgrfv hwrt wer g wqasd  w hvcbg hrtg e sxcd rfs bg re r kuik k t uyjyrt gw htr g rh rfgb  rgbrnu frg rgei nfbejfn [frgnek fgjfrg bemfr rb nb nrgu  bh  e e j de pwsvd epi \n",
      "\n",
      "Lista\n",
      "['rhtyh', 'rhfhr', 'hthrgdf', 'gfdegh', 'yh', 'wqw', 'eg', 'ghr', 'erge', 'f', 'hgrfv', 'hwrt', 'wer', 'g', 'wqasd', 'w', 'hvcbg', 'hrtg', 'e', 'sxcd', 'rfs', 'bg', 're', 'r', 'kuik', 'k', 't', 'uyjyrt', 'gw', 'htr', 'g', 'rh', 'rfgb', 'rgbrnu', 'frg', 'rgei', 'nfbejfn', '[frgnek', 'fgjfrg', 'bemfr', 'rb', 'nb', 'nrgu', 'bh', 'e', 'e', 'j', 'de', 'pwsvd', 'epi']\n",
      "\n",
      "Frecuencias\n",
      "[1, 1, 1, 1, 1, 1, 1, 1, 1, 1, 1, 1, 1, 2, 1, 1, 1, 1, 3, 1, 1, 1, 1, 1, 1, 1, 1, 1, 1, 1, 2, 1, 1, 1, 1, 1, 1, 1, 1, 1, 1, 1, 1, 1, 3, 3, 1, 1, 1, 1]\n",
      "\n"
     ]
    }
   ],
   "source": [
    "\"\"\"\n",
    "Este pequeño codigo se le inserta una cadena de texto, la cual va separando cada palabra por el caracter espacio\n",
    "si se desea se puede modificar para cambiar el caracter espacio por el caracter almohadilla con el sep del split\n",
    "es lo mas basico para la tarea, en cada linea se comentaran las posibles mejoras, no realizadas.\n",
    "\n",
    "\"\"\"\n",
    "#primero se solicita el ingreso de la cadena:\n",
    "#1. podria dar a escoger entre cadena o un archivo .txt\n",
    "#2. podria ser un script y no simples lineas de codigo sueltas\n",
    "cadenaPalabras = input(\"inserte cadena de la cual se dara la frecuencia de cada palabra: \")\n",
    "\n",
    "\n",
    "#seguidamente convierte el string en un list\n",
    "#4. puede ser que aparte de la cadena de texto se desee ingresar otra cadena\n",
    "#5. tambien se puede convertir en diccionarios, pesaria menos y seria mucho mas rapido y optimo\n",
    "#6. introducir un pequeño hilo contador de tiempo seria agradable para el usuario final\n",
    "listaPalabras = cadenaPalabras.split()\n",
    "\n",
    "frecuenciaPalab = []\n",
    "# 7. el for puede ser reemplazado por una funcion mas optima\n",
    "for w in listaPalabras:\n",
    "    frecuenciaPalab.append(listaPalabras.count(w))\n",
    "    \n",
    "# 8.linea innecesaria, al menos de que venga acompañada de texto guia para el usuario, decoradores necesarios\n",
    "print(\"Cadena\\n\" + cadenaPalabras +\"\\n\")\n",
    "\n",
    "#9. lista util, pero deberia de ir acompañada cada palabra con su frecuencia, con un conteo total de la frecuencia\n",
    "# se vuelve a resaltar el uso de diccionarios, por utilidad y comodidad\n",
    "print(\"Lista\\n\" + str(listaPalabras) + \"\\n\")\n",
    "print(\"Frecuencias\\n\" + str(frecuenciaPalab) + \"\\n\")\n",
    "# 10. falta interpretacion de los datos, no quiero numeros, quiero informacion ya interpretada\n",
    "#11. punto a mejorar, el usuario deberia de poder escoger entre ver toda la lista y sus frecuencias\n",
    "# o escribir una cadena y dar informacion respecto a esta cadena en especifico en contraste del resto\n",
    "#12. deberia de organizar la cadena, dotar de orden implica mayor limpieza de datos."
   ]
  },
  {
   "cell_type": "code",
   "execution_count": null,
   "metadata": {},
   "outputs": [],
   "source": []
  }
 ],
 "metadata": {
  "kernelspec": {
   "display_name": "Python 3",
   "language": "python",
   "name": "python3"
  },
  "language_info": {
   "codemirror_mode": {
    "name": "ipython",
    "version": 3
   },
   "file_extension": ".py",
   "mimetype": "text/x-python",
   "name": "python",
   "nbconvert_exporter": "python",
   "pygments_lexer": "ipython3",
   "version": "3.7.3"
  }
 },
 "nbformat": 4,
 "nbformat_minor": 2
}
